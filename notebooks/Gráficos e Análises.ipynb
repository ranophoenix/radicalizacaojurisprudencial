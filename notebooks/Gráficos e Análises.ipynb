{
 "cells": [
  {
   "cell_type": "code",
   "execution_count": 1,
   "metadata": {},
   "outputs": [],
   "source": [
    "import pandas as pd\n",
    "import numpy as np\n",
    "import matplotlib.pyplot as plt\n",
    "from IPython.display import display_html\n",
    "import seaborn as sns\n",
    "from pandas.plotting import scatter_matrix\n",
    "\n",
    "sns.set()\n",
    "\n",
    "%matplotlib inline\n",
    "\n",
    "import tjse"
   ]
  },
  {
   "cell_type": "markdown",
   "metadata": {},
   "source": [
    "## Experimento 1"
   ]
  },
  {
   "cell_type": "code",
   "execution_count": null,
   "metadata": {},
   "outputs": [
    {
     "data": {
      "text/html": [
       "<div>\n",
       "<style>\n",
       "    .dataframe thead tr:only-child th {\n",
       "        text-align: right;\n",
       "    }\n",
       "\n",
       "    .dataframe thead th {\n",
       "        text-align: left;\n",
       "    }\n",
       "\n",
       "    .dataframe tbody tr th {\n",
       "        vertical-align: top;\n",
       "    }\n",
       "</style>\n",
       "<table border=\"1\" class=\"dataframe\">\n",
       "  <thead>\n",
       "    <tr style=\"text-align: right;\">\n",
       "      <th></th>\n",
       "      <th>Chave</th>\n",
       "      <th>TUD</th>\n",
       "      <th>Stemmer</th>\n",
       "      <th>Coleção</th>\n",
       "    </tr>\n",
       "  </thead>\n",
       "  <tbody>\n",
       "    <tr>\n",
       "      <th>0</th>\n",
       "      <td>201100200560443632531</td>\n",
       "      <td>576</td>\n",
       "      <td>NoStem</td>\n",
       "      <td>Segundo Grau - Acórdãos</td>\n",
       "    </tr>\n",
       "    <tr>\n",
       "      <th>1</th>\n",
       "      <td>201100200560443632531</td>\n",
       "      <td>517</td>\n",
       "      <td>Porter</td>\n",
       "      <td>Segundo Grau - Acórdãos</td>\n",
       "    </tr>\n",
       "    <tr>\n",
       "      <th>2</th>\n",
       "      <td>201100200560443632531</td>\n",
       "      <td>480</td>\n",
       "      <td>RSLP</td>\n",
       "      <td>Segundo Grau - Acórdãos</td>\n",
       "    </tr>\n",
       "    <tr>\n",
       "      <th>3</th>\n",
       "      <td>201100200560443632531</td>\n",
       "      <td>540</td>\n",
       "      <td>RSLP-S</td>\n",
       "      <td>Segundo Grau - Acórdãos</td>\n",
       "    </tr>\n",
       "    <tr>\n",
       "      <th>4</th>\n",
       "      <td>201100200560443632531</td>\n",
       "      <td>535</td>\n",
       "      <td>UniNE</td>\n",
       "      <td>Segundo Grau - Acórdãos</td>\n",
       "    </tr>\n",
       "  </tbody>\n",
       "</table>\n",
       "</div>"
      ],
      "text/plain": [
       "                   Chave  TUD Stemmer                  Coleção\n",
       "0  201100200560443632531  576  NoStem  Segundo Grau - Acórdãos\n",
       "1  201100200560443632531  517  Porter  Segundo Grau - Acórdãos\n",
       "2  201100200560443632531  480    RSLP  Segundo Grau - Acórdãos\n",
       "3  201100200560443632531  540  RSLP-S  Segundo Grau - Acórdãos\n",
       "4  201100200560443632531  535   UniNE  Segundo Grau - Acórdãos"
      ]
     },
     "execution_count": 2,
     "metadata": {},
     "output_type": "execute_result"
    }
   ],
   "source": [
    "experimento1 = tjse.carregar_dados_experimento1()\n",
    "\n",
    "experimento1.head()"
   ]
  },
  {
   "cell_type": "code",
   "execution_count": null,
   "metadata": {},
   "outputs": [],
   "source": [
    "plt.figure(figsize=(12, 6))\n",
    "graph1 = sns.pointplot(x=\"Stemmer\", y=\"TUD\", hue=\"Coleção\",\n",
    "                 data=experimento1, n_boot=1000)\n",
    "graph1.set_ylabel('Média(TUD)')\n",
    "graph1.set_xlabel('Algoritmo')\n",
    "graph1.set_title('Termos únicos por Documento')\n",
    "plt.show()"
   ]
  },
  {
   "cell_type": "code",
   "execution_count": null,
   "metadata": {},
   "outputs": [],
   "source": [
    "def percentual_de_reducao(dados):\n",
    "    resultado = pd.pivot_table(dados, index=['Coleção', 'Chave'], columns='Stemmer', values='TUD') \n",
    "    \n",
    "    resultado = resultado.assign(Porter = 100 - (resultado['Porter'] * 100) / resultado['NoStem'],\n",
    "                                RSLPS = 100 - (resultado['RSLP-S'] * 100) / resultado['NoStem'],\n",
    "                                RSLP = 100 - (resultado['RSLP'] * 100) / resultado['NoStem'],\n",
    "                                UniNE = 100 - (resultado['UniNE'] * 100) / resultado['NoStem'],\n",
    "                                NoStemTUD = resultado['NoStem'],\n",
    "                                NoStem = 0.0)\n",
    "    resultado.drop(['RSLP-S'], axis=1, inplace=True)\n",
    "    resultado.rename(columns={'RSLPS': 'RSLP-S'}, inplace=True)\n",
    "    \n",
    "    return resultado\n",
    "\n",
    "df_pr = percentual_de_reducao(experimento1)\n",
    "df_graph = pd.melt(df_pr.reset_index(),\n",
    "                   id_vars = ['Chave', 'Coleção'], \n",
    "                   value_vars=['NoStem','Porter','RSLP','RSLP-S','UniNE'], value_name='PR')\n",
    "plt.figure(figsize=(12, 6))\n",
    "graph2 = sns.pointplot(x=\"Stemmer\", y=\"PR\", hue=\"Coleção\",\n",
    "                 data=df_graph, n_boot=1000)\n",
    "graph2.set_ylabel('Média(PR)')\n",
    "graph2.set_xlabel('Algoritmo')\n",
    "graph2.set_title('Percentual de Redução dos Termos')\n",
    "plt.show()"
   ]
  },
  {
   "cell_type": "code",
   "execution_count": null,
   "metadata": {},
   "outputs": [],
   "source": [
    "df_corr_graph = df_pr.drop(['NoStem'], axis=1).rename(columns={'NoStemTUD': 'NoStem'})\n",
    "df_corr_graph = df_corr_graph[['NoStem', 'Porter', 'RSLP', 'RSLP-S', 'UniNE']]\n",
    "axes = scatter_matrix(df_corr_graph, alpha=0.2, figsize=(12, 12), diagonal='kde')\n",
    "corr = df_corr_graph.corr().as_matrix()\n",
    "for i, j in zip(*plt.np.triu_indices_from(axes, k=1)):\n",
    "    axes[i, j].annotate(\"%.2f\" %corr[i,j], (0.8, 0.8), xycoords='axes fraction', ha='center', va='center')\n",
    "plt.show()"
   ]
  },
  {
   "cell_type": "markdown",
   "metadata": {},
   "source": [
    "## Experimento 2"
   ]
  }
 ],
 "metadata": {
  "kernelspec": {
   "display_name": "Python 3",
   "language": "python",
   "name": "python3"
  },
  "language_info": {
   "codemirror_mode": {
    "name": "ipython",
    "version": 3
   },
   "file_extension": ".py",
   "mimetype": "text/x-python",
   "name": "python",
   "nbconvert_exporter": "python",
   "pygments_lexer": "ipython3",
   "version": "3.6.3"
  }
 },
 "nbformat": 4,
 "nbformat_minor": 2
}
