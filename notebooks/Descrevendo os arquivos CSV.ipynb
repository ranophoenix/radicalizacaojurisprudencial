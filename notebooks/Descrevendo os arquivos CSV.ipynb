{
 "cells": [
  {
   "cell_type": "code",
   "execution_count": 1,
   "metadata": {},
   "outputs": [],
   "source": [
    "import numpy as np\n",
    "import pandas as pd"
   ]
  },
  {
   "cell_type": "markdown",
   "metadata": {},
   "source": [
    "# Descrevendo os arquivos CSV\n",
    "\n",
    "## TermosUnicos_&lt;nome da coleção&gt;-Amostra.csv\n",
    "  \n",
    "  Na primeira versão do experimento, calculamos o tamanho da amostra necessário em função da média de caracteres de cada documento dentro das coleções (arquivos &lt;nome da coleção&gt;-Amostra). No entanto, como os radicalizadores são executados sobre palavras e não sobre caracteres, alteramos a versão 2 para o calcular a amostragem em função da média de termos únicos por documento.\n",
    "  \n",
    "  Como os arquivos possuem a mesma estrutura, utilizaremos os Acórdãos do Segundo Grau para facilitar a explicação.\n"
   ]
  },
  {
   "cell_type": "code",
   "execution_count": 2,
   "metadata": {},
   "outputs": [
    {
     "data": {
      "text/html": [
       "<div>\n",
       "<style>\n",
       "    .dataframe thead tr:only-child th {\n",
       "        text-align: right;\n",
       "    }\n",
       "\n",
       "    .dataframe thead th {\n",
       "        text-align: left;\n",
       "    }\n",
       "\n",
       "    .dataframe tbody tr th {\n",
       "        vertical-align: top;\n",
       "    }\n",
       "</style>\n",
       "<table border=\"1\" class=\"dataframe\">\n",
       "  <thead>\n",
       "    <tr style=\"text-align: right;\">\n",
       "      <th></th>\n",
       "      <th>Media</th>\n",
       "      <th>Sigma</th>\n",
       "      <th>N</th>\n",
       "      <th>e</th>\n",
       "      <th>TamanhoDaAmostra</th>\n",
       "    </tr>\n",
       "  </thead>\n",
       "  <tbody>\n",
       "    <tr>\n",
       "      <th>0</th>\n",
       "      <td>638.44896</td>\n",
       "      <td>322.149428</td>\n",
       "      <td>181994</td>\n",
       "      <td>16.107471</td>\n",
       "      <td>1524</td>\n",
       "    </tr>\n",
       "  </tbody>\n",
       "</table>\n",
       "</div>"
      ],
      "text/plain": [
       "       Media       Sigma       N          e  TamanhoDaAmostra\n",
       "0  638.44896  322.149428  181994  16.107471              1524"
      ]
     },
     "execution_count": 2,
     "metadata": {},
     "output_type": "execute_result"
    }
   ],
   "source": [
    "amostra = pd.read_csv('../csv/TermosUnicos_SegundoGrauAcordaos-Amostra.csv')\n",
    "amostra"
   ]
  },
  {
   "cell_type": "markdown",
   "metadata": {},
   "source": [
    "Calculamos o tamanho da amostra utilizando a função:\n",
    "\n",
    "\\begin{equation}\n",
    "n = \\frac{z^2 . \\sigma^2 . N}{e^2 . (N - 1) + z^2 . \\sigma^2}\n",
    "\\end{equation}\n",
    "\n",
    "Onde $z = 1,96$ (nível de confiança de 95%), $\\sigma$ é o desvio-padrão da quantidade de termos únicos na coleção,\n",
    "    N é o número de documentos que a coleção possui e erro amostral $e = 0,05\\sigma$.\n",
    "    \n",
    "## &lt;nome da coleção&gt;-Sumario.csv\n",
    "\n",
    "Esse arquivo registra o tamanho da amostra processada (Processados), o número de termos únicos da amostra (TUC) e o algoritmo de radicalização utilizado (Stemmer).\n",
    "    "
   ]
  },
  {
   "cell_type": "code",
   "execution_count": 3,
   "metadata": {},
   "outputs": [
    {
     "data": {
      "text/html": [
       "<div>\n",
       "<style>\n",
       "    .dataframe thead tr:only-child th {\n",
       "        text-align: right;\n",
       "    }\n",
       "\n",
       "    .dataframe thead th {\n",
       "        text-align: left;\n",
       "    }\n",
       "\n",
       "    .dataframe tbody tr th {\n",
       "        vertical-align: top;\n",
       "    }\n",
       "</style>\n",
       "<table border=\"1\" class=\"dataframe\">\n",
       "  <thead>\n",
       "    <tr style=\"text-align: right;\">\n",
       "      <th></th>\n",
       "      <th>Processados</th>\n",
       "      <th>TUC</th>\n",
       "      <th>Stemmer</th>\n",
       "    </tr>\n",
       "  </thead>\n",
       "  <tbody>\n",
       "    <tr>\n",
       "      <th>0</th>\n",
       "      <td>1524</td>\n",
       "      <td>42141</td>\n",
       "      <td>NoStem</td>\n",
       "    </tr>\n",
       "    <tr>\n",
       "      <th>1</th>\n",
       "      <td>1524</td>\n",
       "      <td>23019</td>\n",
       "      <td>Porter</td>\n",
       "    </tr>\n",
       "    <tr>\n",
       "      <th>2</th>\n",
       "      <td>1524</td>\n",
       "      <td>20220</td>\n",
       "      <td>RSLP</td>\n",
       "    </tr>\n",
       "    <tr>\n",
       "      <th>3</th>\n",
       "      <td>1524</td>\n",
       "      <td>36976</td>\n",
       "      <td>RSLPS</td>\n",
       "    </tr>\n",
       "    <tr>\n",
       "      <th>4</th>\n",
       "      <td>1524</td>\n",
       "      <td>32007</td>\n",
       "      <td>UniNE</td>\n",
       "    </tr>\n",
       "  </tbody>\n",
       "</table>\n",
       "</div>"
      ],
      "text/plain": [
       "   Processados    TUC  Stemmer\n",
       "0         1524  42141   NoStem\n",
       "1         1524  23019   Porter\n",
       "2         1524  20220     RSLP\n",
       "3         1524  36976    RSLPS\n",
       "4         1524  32007    UniNE"
      ]
     },
     "execution_count": 3,
     "metadata": {},
     "output_type": "execute_result"
    }
   ],
   "source": [
    "sumario = pd.read_csv('../csv/SegundoGrauAcordaos-Sumario.csv')\n",
    "sumario"
   ]
  },
  {
   "cell_type": "markdown",
   "metadata": {},
   "source": [
    "## &lt;nome da coleção&gt;-Termos.csv\n",
    "\n",
    "Registra o número de vezes que cada termo apareceu na amostra depois que aplicamos o radicalizador."
   ]
  },
  {
   "cell_type": "code",
   "execution_count": 4,
   "metadata": {},
   "outputs": [
    {
     "data": {
      "text/html": [
       "<div>\n",
       "<style>\n",
       "    .dataframe thead tr:only-child th {\n",
       "        text-align: right;\n",
       "    }\n",
       "\n",
       "    .dataframe thead th {\n",
       "        text-align: left;\n",
       "    }\n",
       "\n",
       "    .dataframe tbody tr th {\n",
       "        vertical-align: top;\n",
       "    }\n",
       "</style>\n",
       "<table border=\"1\" class=\"dataframe\">\n",
       "  <thead>\n",
       "    <tr style=\"text-align: right;\">\n",
       "      <th></th>\n",
       "      <th>Termo</th>\n",
       "      <th>Quantidade</th>\n",
       "      <th>Stemmer</th>\n",
       "    </tr>\n",
       "  </thead>\n",
       "  <tbody>\n",
       "    <tr>\n",
       "      <th>0</th>\n",
       "      <td>desditosa</td>\n",
       "      <td>1</td>\n",
       "      <td>NoStem</td>\n",
       "    </tr>\n",
       "    <tr>\n",
       "      <th>1</th>\n",
       "      <td>guarde</td>\n",
       "      <td>1</td>\n",
       "      <td>NoStem</td>\n",
       "    </tr>\n",
       "    <tr>\n",
       "      <th>2</th>\n",
       "      <td>titularizar</td>\n",
       "      <td>4</td>\n",
       "      <td>NoStem</td>\n",
       "    </tr>\n",
       "    <tr>\n",
       "      <th>3</th>\n",
       "      <td>espelhada</td>\n",
       "      <td>4</td>\n",
       "      <td>NoStem</td>\n",
       "    </tr>\n",
       "    <tr>\n",
       "      <th>4</th>\n",
       "      <td>3640</td>\n",
       "      <td>1</td>\n",
       "      <td>NoStem</td>\n",
       "    </tr>\n",
       "  </tbody>\n",
       "</table>\n",
       "</div>"
      ],
      "text/plain": [
       "         Termo  Quantidade Stemmer\n",
       "0    desditosa           1  NoStem\n",
       "1       guarde           1  NoStem\n",
       "2  titularizar           4  NoStem\n",
       "3    espelhada           4  NoStem\n",
       "4         3640           1  NoStem"
      ]
     },
     "execution_count": 4,
     "metadata": {},
     "output_type": "execute_result"
    }
   ],
   "source": [
    "termos = pd.read_csv('../csv/SegundoGrauAcordaos-Termos.csv', encoding='Latin-1')\n",
    "termos.head()"
   ]
  },
  {
   "cell_type": "markdown",
   "metadata": {},
   "source": [
    "## &lt;nome da coleção&gt;.csv\n",
    "\n",
    "Para cada documento com id \"Chave\", registramos a quantidade de termos únicos após o uso da radicalização.\n"
   ]
  },
  {
   "cell_type": "code",
   "execution_count": 5,
   "metadata": {},
   "outputs": [
    {
     "data": {
      "text/html": [
       "<div>\n",
       "<style>\n",
       "    .dataframe thead tr:only-child th {\n",
       "        text-align: right;\n",
       "    }\n",
       "\n",
       "    .dataframe thead th {\n",
       "        text-align: left;\n",
       "    }\n",
       "\n",
       "    .dataframe tbody tr th {\n",
       "        vertical-align: top;\n",
       "    }\n",
       "</style>\n",
       "<table border=\"1\" class=\"dataframe\">\n",
       "  <thead>\n",
       "    <tr style=\"text-align: right;\">\n",
       "      <th></th>\n",
       "      <th>Chave</th>\n",
       "      <th>TUD</th>\n",
       "      <th>Stemmer</th>\n",
       "    </tr>\n",
       "  </thead>\n",
       "  <tbody>\n",
       "    <tr>\n",
       "      <th>0</th>\n",
       "      <td>201100200560443632531</td>\n",
       "      <td>576</td>\n",
       "      <td>NoStem</td>\n",
       "    </tr>\n",
       "    <tr>\n",
       "      <th>1</th>\n",
       "      <td>201100200560443632531</td>\n",
       "      <td>517</td>\n",
       "      <td>Porter</td>\n",
       "    </tr>\n",
       "    <tr>\n",
       "      <th>2</th>\n",
       "      <td>201100200560443632531</td>\n",
       "      <td>480</td>\n",
       "      <td>RSLP</td>\n",
       "    </tr>\n",
       "    <tr>\n",
       "      <th>3</th>\n",
       "      <td>201100200560443632531</td>\n",
       "      <td>540</td>\n",
       "      <td>RSLPS</td>\n",
       "    </tr>\n",
       "    <tr>\n",
       "      <th>4</th>\n",
       "      <td>201100200560443632531</td>\n",
       "      <td>535</td>\n",
       "      <td>UniNE</td>\n",
       "    </tr>\n",
       "  </tbody>\n",
       "</table>\n",
       "</div>"
      ],
      "text/plain": [
       "                   Chave  TUD Stemmer\n",
       "0  201100200560443632531  576  NoStem\n",
       "1  201100200560443632531  517  Porter\n",
       "2  201100200560443632531  480    RSLP\n",
       "3  201100200560443632531  540   RSLPS\n",
       "4  201100200560443632531  535   UniNE"
      ]
     },
     "execution_count": 5,
     "metadata": {},
     "output_type": "execute_result"
    }
   ],
   "source": [
    "colecao = pd.read_csv('../csv/SegundoGrauAcordaos.csv')\n",
    "colecao.head()"
   ]
  },
  {
   "cell_type": "markdown",
   "metadata": {},
   "source": [
    "## &lt;nome da coleção&gt;&lowbar;&lt;nome do algoritmo&gt;&lowbar;&lt;nome da métrica&gt;.csv\n",
    "\n",
    "Registra o valor da métrica obtido para cada uma das consultas disparadas contra o engine de busca."
   ]
  },
  {
   "cell_type": "code",
   "execution_count": 6,
   "metadata": {},
   "outputs": [
    {
     "data": {
      "text/html": [
       "<div>\n",
       "<style>\n",
       "    .dataframe thead tr:only-child th {\n",
       "        text-align: right;\n",
       "    }\n",
       "\n",
       "    .dataframe thead th {\n",
       "        text-align: left;\n",
       "    }\n",
       "\n",
       "    .dataframe tbody tr th {\n",
       "        vertical-align: top;\n",
       "    }\n",
       "</style>\n",
       "<table border=\"1\" class=\"dataframe\">\n",
       "  <thead>\n",
       "    <tr style=\"text-align: right;\">\n",
       "      <th></th>\n",
       "      <th>1</th>\n",
       "    </tr>\n",
       "    <tr>\n",
       "      <th>0</th>\n",
       "      <th></th>\n",
       "    </tr>\n",
       "  </thead>\n",
       "  <tbody>\n",
       "    <tr>\n",
       "      <th>1</th>\n",
       "      <td>0.947681</td>\n",
       "    </tr>\n",
       "    <tr>\n",
       "      <th>2</th>\n",
       "      <td>0.500000</td>\n",
       "    </tr>\n",
       "    <tr>\n",
       "      <th>3</th>\n",
       "      <td>1.000000</td>\n",
       "    </tr>\n",
       "    <tr>\n",
       "      <th>4</th>\n",
       "      <td>0.557677</td>\n",
       "    </tr>\n",
       "    <tr>\n",
       "      <th>5</th>\n",
       "      <td>1.000000</td>\n",
       "    </tr>\n",
       "  </tbody>\n",
       "</table>\n",
       "</div>"
      ],
      "text/plain": [
       "          1\n",
       "0          \n",
       "1  0.947681\n",
       "2  0.500000\n",
       "3  1.000000\n",
       "4  0.557677\n",
       "5  1.000000"
      ]
     },
     "execution_count": 6,
     "metadata": {},
     "output_type": "execute_result"
    }
   ],
   "source": [
    "metrica = pd.read_csv('../csv/asg_nostem_map.csv', header=None, index_col=0)\n",
    "metrica.head()"
   ]
  },
  {
   "cell_type": "markdown",
   "metadata": {},
   "source": [
    "**Vale ressaltar que não setamos a semente nas fases de randomização dos experimentos, portanto, os arquivos gerados a cada execução podem apresentar valores diferentes dos aqui expostos. Contudo, estatisticamente, é esperado que haja ratificação das hipóteses descritas na dissertação.**"
   ]
  }
 ],
 "metadata": {
  "kernelspec": {
   "display_name": "Python 3",
   "language": "python",
   "name": "python3"
  },
  "language_info": {
   "codemirror_mode": {
    "name": "ipython",
    "version": 3
   },
   "file_extension": ".py",
   "mimetype": "text/x-python",
   "name": "python",
   "nbconvert_exporter": "python",
   "pygments_lexer": "ipython3",
   "version": "3.6.3"
  }
 },
 "nbformat": 4,
 "nbformat_minor": 2
}
